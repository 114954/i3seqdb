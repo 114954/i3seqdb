{
 "cells": [
  {
   "cell_type": "code",
   "execution_count": 6,
   "metadata": {},
   "outputs": [],
   "source": [
    "from sqlalchemy import create_engine\n",
    "from sqlalchemy.orm import sessionmaker\n",
    "from app.objects import *\n",
    "import datetime as dt"
   ]
  },
  {
   "cell_type": "code",
   "execution_count": 2,
   "metadata": {
    "collapsed": true
   },
   "outputs": [],
   "source": [
    "# in-memory SQLite, where echo causes the SQL spam sent to server.\n",
    "engine = create_engine('sqlite:///:memory:', echo=True)"
   ]
  },
  {
   "cell_type": "code",
   "execution_count": 3,
   "metadata": {
    "scrolled": true
   },
   "outputs": [
    {
     "name": "stdout",
     "output_type": "stream",
     "text": [
      "2017-08-08 13:45:14,131 INFO sqlalchemy.engine.base.Engine SELECT CAST('test plain returns' AS VARCHAR(60)) AS anon_1\n",
      "2017-08-08 13:45:14,132 INFO sqlalchemy.engine.base.Engine ()\n",
      "2017-08-08 13:45:14,133 INFO sqlalchemy.engine.base.Engine SELECT CAST('test unicode returns' AS VARCHAR(60)) AS anon_1\n",
      "2017-08-08 13:45:14,133 INFO sqlalchemy.engine.base.Engine ()\n",
      "2017-08-08 13:45:14,135 INFO sqlalchemy.engine.base.Engine PRAGMA table_info(\"run\")\n",
      "2017-08-08 13:45:14,135 INFO sqlalchemy.engine.base.Engine ()\n",
      "2017-08-08 13:45:14,136 INFO sqlalchemy.engine.base.Engine PRAGMA table_info(\"library\")\n",
      "2017-08-08 13:45:14,137 INFO sqlalchemy.engine.base.Engine ()\n",
      "2017-08-08 13:45:14,137 INFO sqlalchemy.engine.base.Engine PRAGMA table_info(\"sample\")\n",
      "2017-08-08 13:45:14,138 INFO sqlalchemy.engine.base.Engine ()\n",
      "2017-08-08 13:45:14,139 INFO sqlalchemy.engine.base.Engine PRAGMA table_info(\"pool_library\")\n",
      "2017-08-08 13:45:14,139 INFO sqlalchemy.engine.base.Engine ()\n",
      "2017-08-08 13:45:14,140 INFO sqlalchemy.engine.base.Engine PRAGMA table_info(\"run_pool\")\n",
      "2017-08-08 13:45:14,140 INFO sqlalchemy.engine.base.Engine ()\n",
      "2017-08-08 13:45:14,141 INFO sqlalchemy.engine.base.Engine PRAGMA table_info(\"pool\")\n",
      "2017-08-08 13:45:14,142 INFO sqlalchemy.engine.base.Engine ()\n",
      "2017-08-08 13:45:14,143 INFO sqlalchemy.engine.base.Engine \n",
      "CREATE TABLE run (\n",
      "\tid INTEGER NOT NULL, \n",
      "\tfacility VARCHAR, \n",
      "\tmachine_type VARCHAR, \n",
      "\tcell_type VARCHAR, \n",
      "\trun_type VARCHAR, \n",
      "\trun_date DATE, \n",
      "\tdata_path VARCHAR, \n",
      "\tPRIMARY KEY (id)\n",
      ")\n",
      "\n",
      "\n",
      "2017-08-08 13:45:14,144 INFO sqlalchemy.engine.base.Engine ()\n",
      "2017-08-08 13:45:14,146 INFO sqlalchemy.engine.base.Engine COMMIT\n",
      "2017-08-08 13:45:14,147 INFO sqlalchemy.engine.base.Engine \n",
      "CREATE TABLE sample (\n",
      "\tid INTEGER NOT NULL, \n",
      "\tname VARCHAR, \n",
      "\torganism VARCHAR, \n",
      "\tcollection_date DATE, \n",
      "\tgeo_loc_name VARCHAR, \n",
      "\tstrain VARCHAR, \n",
      "\tisolate VARCHAR, \n",
      "\thost VARCHAR, \n",
      "\tisolation_source VARCHAR, \n",
      "\tsample_type VARCHAR, \n",
      "\tPRIMARY KEY (id)\n",
      ")\n",
      "\n",
      "\n",
      "2017-08-08 13:45:14,147 INFO sqlalchemy.engine.base.Engine ()\n",
      "2017-08-08 13:45:14,148 INFO sqlalchemy.engine.base.Engine COMMIT\n",
      "2017-08-08 13:45:14,149 INFO sqlalchemy.engine.base.Engine \n",
      "CREATE TABLE pool (\n",
      "\tid INTEGER NOT NULL, \n",
      "\tmolarity FLOAT, \n",
      "\tPRIMARY KEY (id)\n",
      ")\n",
      "\n",
      "\n",
      "2017-08-08 13:45:14,150 INFO sqlalchemy.engine.base.Engine ()\n",
      "2017-08-08 13:45:14,150 INFO sqlalchemy.engine.base.Engine COMMIT\n",
      "2017-08-08 13:45:14,152 INFO sqlalchemy.engine.base.Engine \n",
      "CREATE TABLE library (\n",
      "\tid INTEGER NOT NULL, \n",
      "\tbarcode VARCHAR, \n",
      "\tcreation_date DATE, \n",
      "\tstatus VARCHAR, \n",
      "\ttray VARCHAR, \n",
      "\twell VARCHAR, \n",
      "\tba_conc FLOAT, \n",
      "\tnano_count INTEGER, \n",
      "\tsample_id INTEGER, \n",
      "\tPRIMARY KEY (id), \n",
      "\tFOREIGN KEY(sample_id) REFERENCES sample (id)\n",
      ")\n",
      "\n",
      "\n",
      "2017-08-08 13:45:14,153 INFO sqlalchemy.engine.base.Engine ()\n",
      "2017-08-08 13:45:14,155 INFO sqlalchemy.engine.base.Engine COMMIT\n",
      "2017-08-08 13:45:14,156 INFO sqlalchemy.engine.base.Engine \n",
      "CREATE TABLE run_pool (\n",
      "\trun_id INTEGER, \n",
      "\tpool_id INTEGER, \n",
      "\tFOREIGN KEY(run_id) REFERENCES run (id), \n",
      "\tFOREIGN KEY(pool_id) REFERENCES pool (id)\n",
      ")\n",
      "\n",
      "\n",
      "2017-08-08 13:45:14,157 INFO sqlalchemy.engine.base.Engine ()\n",
      "2017-08-08 13:45:14,158 INFO sqlalchemy.engine.base.Engine COMMIT\n",
      "2017-08-08 13:45:14,162 INFO sqlalchemy.engine.base.Engine \n",
      "CREATE TABLE pool_library (\n",
      "\tpool_id INTEGER, \n",
      "\tlibrary_id INTEGER, \n",
      "\tFOREIGN KEY(pool_id) REFERENCES pool (id), \n",
      "\tFOREIGN KEY(library_id) REFERENCES library (id)\n",
      ")\n",
      "\n",
      "\n",
      "2017-08-08 13:45:14,162 INFO sqlalchemy.engine.base.Engine ()\n",
      "2017-08-08 13:45:14,164 INFO sqlalchemy.engine.base.Engine COMMIT\n"
     ]
    }
   ],
   "source": [
    "# explicit call to create tables\n",
    "Base.metadata.create_all(engine)"
   ]
  },
  {
   "cell_type": "code",
   "execution_count": 5,
   "metadata": {
    "collapsed": true
   },
   "outputs": [],
   "source": [
    "# create a Microbe sample\n",
    "\n",
    "mc = Microbe(name='test', organism='E.coli', collection_date=dt.datetime.now(), geo_loc_name='Sydney', \\\n",
    "             strain='k12', isolation_source='someones butt', sample_type='cell culture')"
   ]
  },
  {
   "cell_type": "code",
   "execution_count": 7,
   "metadata": {
    "collapsed": true
   },
   "outputs": [],
   "source": [
    "# create a session with dbrms\n",
    "Session = sessionmaker(bind=engine)\n",
    "s = Session()"
   ]
  },
  {
   "cell_type": "code",
   "execution_count": 8,
   "metadata": {
    "collapsed": true
   },
   "outputs": [],
   "source": [
    "# persist microbe\n",
    "s.add(mc)"
   ]
  },
  {
   "cell_type": "code",
   "execution_count": 10,
   "metadata": {},
   "outputs": [
    {
     "name": "stdout",
     "output_type": "stream",
     "text": [
      "2017-08-08 13:53:39,482 INFO sqlalchemy.engine.base.Engine SELECT sample.id AS sample_id, sample.name AS sample_name, sample.organism AS sample_organism, sample.collection_date AS sample_collection_date, sample.geo_loc_name AS sample_geo_loc_name, sample.strain AS sample_strain, sample.isolate AS sample_isolate, sample.host AS sample_host, sample.isolation_source AS sample_isolation_source, sample.sample_type AS sample_sample_type \n",
      "FROM sample\n",
      " LIMIT ? OFFSET ?\n",
      "2017-08-08 13:53:39,483 INFO sqlalchemy.engine.base.Engine (1, 0)\n"
     ]
    }
   ],
   "source": [
    "# load from store\n",
    "mc2 = s.query(Microbe).first()"
   ]
  },
  {
   "cell_type": "code",
   "execution_count": 11,
   "metadata": {},
   "outputs": [
    {
     "data": {
      "text/plain": [
       "True"
      ]
     },
     "execution_count": 11,
     "metadata": {},
     "output_type": "execute_result"
    }
   ],
   "source": [
    "# compare state\n",
    "mc2 == mc"
   ]
  },
  {
   "cell_type": "code",
   "execution_count": 12,
   "metadata": {
    "collapsed": true
   },
   "outputs": [],
   "source": [
    "# need more objects to make it interesting. In the meantine, checkout querying docs\n",
    "# http://docs.sqlalchemy.org/en/rel_1_1/orm/tutorial.html#querying"
   ]
  },
  {
   "cell_type": "code",
   "execution_count": 14,
   "metadata": {},
   "outputs": [
    {
     "name": "stdout",
     "output_type": "stream",
     "text": [
      "2017-08-08 13:55:37,549 INFO sqlalchemy.engine.base.Engine SELECT library.id AS library_id, library.barcode AS library_barcode, library.creation_date AS library_creation_date, library.status AS library_status, library.tray AS library_tray, library.well AS library_well, library.ba_conc AS library_ba_conc, library.nano_count AS library_nano_count, library.sample_id AS library_sample_id \n",
      "FROM library \n",
      "WHERE ? = library.sample_id\n",
      "2017-08-08 13:55:37,550 INFO sqlalchemy.engine.base.Engine (1,)\n"
     ]
    },
    {
     "data": {
      "text/plain": [
       "[]"
      ]
     },
     "execution_count": 14,
     "metadata": {},
     "output_type": "execute_result"
    }
   ],
   "source": [
    "mc.libraries"
   ]
  },
  {
   "cell_type": "code",
   "execution_count": null,
   "metadata": {
    "collapsed": true
   },
   "outputs": [],
   "source": [
    ""
   ]
  }
 ],
 "metadata": {
  "kernelspec": {
   "display_name": "Python 2",
   "language": "python",
   "name": "python2"
  },
  "language_info": {
   "codemirror_mode": {
    "name": "ipython",
    "version": 2.0
   },
   "file_extension": ".py",
   "mimetype": "text/x-python",
   "name": "python",
   "nbconvert_exporter": "python",
   "pygments_lexer": "ipython2",
   "version": "2.7.13"
  }
 },
 "nbformat": 4,
 "nbformat_minor": 0
}